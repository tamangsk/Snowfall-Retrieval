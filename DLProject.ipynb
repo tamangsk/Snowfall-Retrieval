{
  "nbformat": 4,
  "nbformat_minor": 0,
  "metadata": {
    "colab": {
      "name": "DLProject.ipynb",
      "provenance": []
    },
    "kernelspec": {
      "name": "python3",
      "display_name": "Python 3"
    },
    "accelerator": "GPU"
  },
  "cells": [
    {
      "cell_type": "code",
      "metadata": {
        "id": "vafYYpxWCjBn"
      },
      "source": [
        "import matplotlib.pyplot as plt\n",
        "import torch\n",
        "import torch.nn as nn\n",
        "import torchvision.transforms as transforms\n",
        "from torchvision import datasets\n",
        "import torch.nn.functional as f\n",
        "from torch.autograd import Variable\n",
        "import torch.optim as optim\n",
        "import numpy as np\n",
        "import pandas as pd\n",
        "import math"
      ],
      "execution_count": null,
      "outputs": []
    },
    {
      "cell_type": "code",
      "metadata": {
        "colab": {
          "base_uri": "https://localhost:8080/"
        },
        "id": "X3zl9i8iCucp",
        "outputId": "b0f21833-cd9e-4599-c310-9c6610622419"
      },
      "source": [
        "import h5py\n",
        "import numpy as np\n",
        "filepath = 'drive/MyDrive/DeepLearning_Project/Data/Dic_ocean.mat'\n",
        "arrays = {}\n",
        "f = h5py.File(filepath)\n",
        "for k, v in f.items():\n",
        "    arrays[k] = np.array(v)"
      ],
      "execution_count": null,
      "outputs": [
        {
          "output_type": "stream",
          "text": [
            "/usr/local/lib/python3.6/dist-packages/ipykernel_launcher.py:5: H5pyDeprecationWarning: The default file mode will change to 'r' (read-only) in h5py 3.0. To suppress this warning, pass the mode you need to h5py.File(), or set the global default h5.get_config().default_file_mode, or set the environment variable H5PY_DEFAULT_READONLY=1. Available modes are: 'r', 'r+', 'w', 'w-'/'x', 'a'. See the docs for details.\n",
            "  \"\"\"\n"
          ],
          "name": "stderr"
        }
      ]
    },
    {
      "cell_type": "code",
      "metadata": {
        "id": "R_2aknzYESp9"
      },
      "source": [
        "dataset = arrays['Dic_ocean']"
      ],
      "execution_count": null,
      "outputs": []
    },
    {
      "cell_type": "code",
      "metadata": {
        "id": "lhxKc5jUTP4I"
      },
      "source": [
        "df = pd.DataFrame(data=dataset)"
      ],
      "execution_count": null,
      "outputs": []
    },
    {
      "cell_type": "code",
      "metadata": {
        "id": "gLWlMMCZTfzR"
      },
      "source": [
        "df = df[[0, 1, 2, 3, 4, 5,6,7,8,9,10,11,12,18]]"
      ],
      "execution_count": null,
      "outputs": []
    },
    {
      "cell_type": "code",
      "metadata": {
        "colab": {
          "base_uri": "https://localhost:8080/"
        },
        "id": "3tQgKxX_cZa7",
        "outputId": "4b685e31-4e6b-467a-88df-65c63650dd7e"
      },
      "source": [
        "df.shape"
      ],
      "execution_count": null,
      "outputs": [
        {
          "output_type": "execute_result",
          "data": {
            "text/plain": [
              "(5406505, 14)"
            ]
          },
          "metadata": {
            "tags": []
          },
          "execution_count": 6
        }
      ]
    },
    {
      "cell_type": "code",
      "metadata": {
        "colab": {
          "base_uri": "https://localhost:8080/"
        },
        "id": "ksG1e_Gdz5SQ",
        "outputId": "af596856-a301-414f-c414-04542018be59"
      },
      "source": [
        "df.mean(axis=0)"
      ],
      "execution_count": null,
      "outputs": [
        {
          "output_type": "execute_result",
          "data": {
            "text/plain": [
              "0     174.211579\n",
              "1     105.244170\n",
              "2     193.862524\n",
              "3     132.074897\n",
              "4     214.917496\n",
              "5     216.924162\n",
              "6     162.944387\n",
              "7     252.803301\n",
              "8     222.612377\n",
              "9     266.225172\n",
              "10    259.815200\n",
              "11    255.941583\n",
              "12    264.039179\n",
              "18      0.018301\n",
              "dtype: float64"
            ]
          },
          "metadata": {
            "tags": []
          },
          "execution_count": 7
        }
      ]
    },
    {
      "cell_type": "code",
      "metadata": {
        "colab": {
          "base_uri": "https://localhost:8080/",
          "height": 304
        },
        "id": "vcmL07Mz-5nq",
        "outputId": "b1bce160-836e-4c6e-eebe-9fc45261cb65"
      },
      "source": [
        "df.describe()"
      ],
      "execution_count": null,
      "outputs": [
        {
          "output_type": "execute_result",
          "data": {
            "text/html": [
              "<div>\n",
              "<style scoped>\n",
              "    .dataframe tbody tr th:only-of-type {\n",
              "        vertical-align: middle;\n",
              "    }\n",
              "\n",
              "    .dataframe tbody tr th {\n",
              "        vertical-align: top;\n",
              "    }\n",
              "\n",
              "    .dataframe thead th {\n",
              "        text-align: right;\n",
              "    }\n",
              "</style>\n",
              "<table border=\"1\" class=\"dataframe\">\n",
              "  <thead>\n",
              "    <tr style=\"text-align: right;\">\n",
              "      <th></th>\n",
              "      <th>0</th>\n",
              "      <th>1</th>\n",
              "      <th>2</th>\n",
              "      <th>3</th>\n",
              "      <th>4</th>\n",
              "      <th>5</th>\n",
              "      <th>6</th>\n",
              "      <th>7</th>\n",
              "      <th>8</th>\n",
              "      <th>9</th>\n",
              "      <th>10</th>\n",
              "      <th>11</th>\n",
              "      <th>12</th>\n",
              "      <th>18</th>\n",
              "    </tr>\n",
              "  </thead>\n",
              "  <tbody>\n",
              "    <tr>\n",
              "      <th>count</th>\n",
              "      <td>5.406505e+06</td>\n",
              "      <td>5.406505e+06</td>\n",
              "      <td>5.406505e+06</td>\n",
              "      <td>5.406505e+06</td>\n",
              "      <td>5.406505e+06</td>\n",
              "      <td>5.406505e+06</td>\n",
              "      <td>5.406505e+06</td>\n",
              "      <td>5.406505e+06</td>\n",
              "      <td>5.406505e+06</td>\n",
              "      <td>5.406505e+06</td>\n",
              "      <td>5.406505e+06</td>\n",
              "      <td>5.406505e+06</td>\n",
              "      <td>5.406505e+06</td>\n",
              "      <td>2.857203e+06</td>\n",
              "    </tr>\n",
              "    <tr>\n",
              "      <th>mean</th>\n",
              "      <td>1.742116e+02</td>\n",
              "      <td>1.052442e+02</td>\n",
              "      <td>1.938625e+02</td>\n",
              "      <td>1.320749e+02</td>\n",
              "      <td>2.149175e+02</td>\n",
              "      <td>2.169242e+02</td>\n",
              "      <td>1.629444e+02</td>\n",
              "      <td>2.528033e+02</td>\n",
              "      <td>2.226124e+02</td>\n",
              "      <td>2.662252e+02</td>\n",
              "      <td>2.598152e+02</td>\n",
              "      <td>2.559416e+02</td>\n",
              "      <td>2.640392e+02</td>\n",
              "      <td>1.830058e-02</td>\n",
              "    </tr>\n",
              "    <tr>\n",
              "      <th>std</th>\n",
              "      <td>2.434191e+01</td>\n",
              "      <td>3.780310e+01</td>\n",
              "      <td>2.049592e+01</td>\n",
              "      <td>3.367047e+01</td>\n",
              "      <td>2.104154e+01</td>\n",
              "      <td>1.379414e+01</td>\n",
              "      <td>2.746119e+01</td>\n",
              "      <td>1.457784e+01</td>\n",
              "      <td>2.579099e+01</td>\n",
              "      <td>1.509740e+01</td>\n",
              "      <td>1.992599e+01</td>\n",
              "      <td>8.348644e+00</td>\n",
              "      <td>1.048605e+01</td>\n",
              "      <td>1.198194e-01</td>\n",
              "    </tr>\n",
              "    <tr>\n",
              "      <th>min</th>\n",
              "      <td>1.547800e+02</td>\n",
              "      <td>7.909000e+01</td>\n",
              "      <td>1.500700e+02</td>\n",
              "      <td>9.224000e+01</td>\n",
              "      <td>1.537000e+02</td>\n",
              "      <td>1.438800e+02</td>\n",
              "      <td>1.224700e+02</td>\n",
              "      <td>7.707000e+01</td>\n",
              "      <td>7.630000e+01</td>\n",
              "      <td>8.828000e+01</td>\n",
              "      <td>8.635000e+01</td>\n",
              "      <td>9.587000e+01</td>\n",
              "      <td>9.142000e+01</td>\n",
              "      <td>0.000000e+00</td>\n",
              "    </tr>\n",
              "    <tr>\n",
              "      <th>25%</th>\n",
              "      <td>1.619100e+02</td>\n",
              "      <td>8.864000e+01</td>\n",
              "      <td>1.801500e+02</td>\n",
              "      <td>1.109200e+02</td>\n",
              "      <td>1.968200e+02</td>\n",
              "      <td>2.068500e+02</td>\n",
              "      <td>1.440200e+02</td>\n",
              "      <td>2.416600e+02</td>\n",
              "      <td>2.015800e+02</td>\n",
              "      <td>2.574600e+02</td>\n",
              "      <td>2.460100e+02</td>\n",
              "      <td>2.499100e+02</td>\n",
              "      <td>2.581000e+02</td>\n",
              "      <td>0.000000e+00</td>\n",
              "    </tr>\n",
              "    <tr>\n",
              "      <th>50%</th>\n",
              "      <td>1.663600e+02</td>\n",
              "      <td>9.249000e+01</td>\n",
              "      <td>1.866400e+02</td>\n",
              "      <td>1.206500e+02</td>\n",
              "      <td>2.095300e+02</td>\n",
              "      <td>2.126400e+02</td>\n",
              "      <td>1.546600e+02</td>\n",
              "      <td>2.507600e+02</td>\n",
              "      <td>2.213900e+02</td>\n",
              "      <td>2.673900e+02</td>\n",
              "      <td>2.626100e+02</td>\n",
              "      <td>2.544000e+02</td>\n",
              "      <td>2.638200e+02</td>\n",
              "      <td>0.000000e+00</td>\n",
              "    </tr>\n",
              "    <tr>\n",
              "      <th>75%</th>\n",
              "      <td>1.723600e+02</td>\n",
              "      <td>9.738000e+01</td>\n",
              "      <td>1.996600e+02</td>\n",
              "      <td>1.388100e+02</td>\n",
              "      <td>2.312000e+02</td>\n",
              "      <td>2.227200e+02</td>\n",
              "      <td>1.717100e+02</td>\n",
              "      <td>2.638600e+02</td>\n",
              "      <td>2.427200e+02</td>\n",
              "      <td>2.782800e+02</td>\n",
              "      <td>2.771800e+02</td>\n",
              "      <td>2.610800e+02</td>\n",
              "      <td>2.710900e+02</td>\n",
              "      <td>0.000000e+00</td>\n",
              "    </tr>\n",
              "    <tr>\n",
              "      <th>max</th>\n",
              "      <td>2.788000e+02</td>\n",
              "      <td>2.631800e+02</td>\n",
              "      <td>2.817200e+02</td>\n",
              "      <td>2.794700e+02</td>\n",
              "      <td>2.860600e+02</td>\n",
              "      <td>2.818400e+02</td>\n",
              "      <td>2.785900e+02</td>\n",
              "      <td>2.975900e+02</td>\n",
              "      <td>2.915400e+02</td>\n",
              "      <td>2.995200e+02</td>\n",
              "      <td>2.991500e+02</td>\n",
              "      <td>2.876400e+02</td>\n",
              "      <td>2.956100e+02</td>\n",
              "      <td>1.160687e+01</td>\n",
              "    </tr>\n",
              "  </tbody>\n",
              "</table>\n",
              "</div>"
            ],
            "text/plain": [
              "                 0             1   ...            12            18\n",
              "count  5.406505e+06  5.406505e+06  ...  5.406505e+06  2.857203e+06\n",
              "mean   1.742116e+02  1.052442e+02  ...  2.640392e+02  1.830058e-02\n",
              "std    2.434191e+01  3.780310e+01  ...  1.048605e+01  1.198194e-01\n",
              "min    1.547800e+02  7.909000e+01  ...  9.142000e+01  0.000000e+00\n",
              "25%    1.619100e+02  8.864000e+01  ...  2.581000e+02  0.000000e+00\n",
              "50%    1.663600e+02  9.249000e+01  ...  2.638200e+02  0.000000e+00\n",
              "75%    1.723600e+02  9.738000e+01  ...  2.710900e+02  0.000000e+00\n",
              "max    2.788000e+02  2.631800e+02  ...  2.956100e+02  1.160687e+01\n",
              "\n",
              "[8 rows x 14 columns]"
            ]
          },
          "metadata": {
            "tags": []
          },
          "execution_count": 8
        }
      ]
    },
    {
      "cell_type": "code",
      "metadata": {
        "id": "xHrVontxdub3"
      },
      "source": [
        "count_nan = len(df) - df.count()"
      ],
      "execution_count": null,
      "outputs": []
    },
    {
      "cell_type": "code",
      "metadata": {
        "colab": {
          "base_uri": "https://localhost:8080/"
        },
        "id": "nmM0dDnfdw67",
        "outputId": "ba0e6bb1-5830-409c-b136-3759d0221c9d"
      },
      "source": [
        "count_nan"
      ],
      "execution_count": null,
      "outputs": [
        {
          "output_type": "execute_result",
          "data": {
            "text/plain": [
              "0           0\n",
              "1           0\n",
              "2           0\n",
              "3           0\n",
              "4           0\n",
              "5           0\n",
              "6           0\n",
              "7           0\n",
              "8           0\n",
              "9           0\n",
              "10          0\n",
              "11          0\n",
              "12          0\n",
              "18    2549302\n",
              "dtype: int64"
            ]
          },
          "metadata": {
            "tags": []
          },
          "execution_count": 10
        }
      ]
    },
    {
      "cell_type": "code",
      "metadata": {
        "id": "C3A3H2VyTifT"
      },
      "source": [
        "df = df[pd.notnull(df[18])]"
      ],
      "execution_count": null,
      "outputs": []
    },
    {
      "cell_type": "code",
      "metadata": {
        "colab": {
          "base_uri": "https://localhost:8080/"
        },
        "id": "kcWcY-thPEZk",
        "outputId": "f42383f4-0b31-4a02-f311-60be4c37a06b"
      },
      "source": [
        "np.count_nonzero(df, axis=0)"
      ],
      "execution_count": null,
      "outputs": [
        {
          "output_type": "execute_result",
          "data": {
            "text/plain": [
              "array([2857203, 2857203, 2857203, 2857203, 2857203, 2857203, 2857203,\n",
              "       2857203, 2857203, 2857203, 2857203, 2857203, 2857203,  226088])"
            ]
          },
          "metadata": {
            "tags": []
          },
          "execution_count": 12
        }
      ]
    },
    {
      "cell_type": "code",
      "metadata": {
        "id": "w--p2eNZGB2C"
      },
      "source": [
        "test_split = .3\n",
        "random_seed =1"
      ],
      "execution_count": null,
      "outputs": []
    },
    {
      "cell_type": "code",
      "metadata": {
        "id": "dtaUSq8YeJk_"
      },
      "source": [
        "data1 = df.to_numpy()"
      ],
      "execution_count": null,
      "outputs": []
    },
    {
      "cell_type": "code",
      "metadata": {
        "colab": {
          "base_uri": "https://localhost:8080/"
        },
        "id": "2JdITCtBeSky",
        "outputId": "2da319de-7d26-49bc-f86e-86782e915afb"
      },
      "source": [
        "data1.shape"
      ],
      "execution_count": null,
      "outputs": [
        {
          "output_type": "execute_result",
          "data": {
            "text/plain": [
              "(2857203, 14)"
            ]
          },
          "metadata": {
            "tags": []
          },
          "execution_count": 15
        }
      ]
    },
    {
      "cell_type": "code",
      "metadata": {
        "id": "YZR3qJO5mqK6"
      },
      "source": [
        "Full_data = data1.astype(np.float)"
      ],
      "execution_count": null,
      "outputs": []
    },
    {
      "cell_type": "code",
      "metadata": {
        "id": "P1QhxVztM4SD"
      },
      "source": [
        "from scipy import stats"
      ],
      "execution_count": null,
      "outputs": []
    },
    {
      "cell_type": "code",
      "metadata": {
        "id": "4Bv2mKFLE5wk"
      },
      "source": [
        "from torch.utils.data.sampler import SubsetRandomSampler\n",
        "validation_split = .3\n",
        "dataset_size = data1.shape[0]\n",
        "indices = list(range(dataset_size))\n",
        "split = int(np.floor(test_split * dataset_size))\n",
        "np.random.seed(random_seed)\n",
        "np.random.shuffle(indices)\n",
        "train_indices, test_indices = indices[split:], indices[:split]\n",
        "\n",
        "# Creating Data Samples:\n",
        "train_sampler = SubsetRandomSampler(train_indices)\n",
        "test_sampler = SubsetRandomSampler(test_indices)"
      ],
      "execution_count": null,
      "outputs": []
    },
    {
      "cell_type": "code",
      "metadata": {
        "id": "pTqnRSO_xhkG"
      },
      "source": [
        "# setup hyperparameters\n",
        "epochs = 200\n",
        "lr = 1e-4\n",
        "batchsize = 1024 #16384 #1024"
      ],
      "execution_count": null,
      "outputs": []
    },
    {
      "cell_type": "code",
      "metadata": {
        "id": "4VZbVNfdGJjg"
      },
      "source": [
        "train_loader = torch.utils.data.DataLoader(Full_data,sampler=train_sampler, batch_size=batchsize)\n",
        "test_loader = torch.utils.data.DataLoader(Full_data,sampler=test_sampler, batch_size=batchsize)"
      ],
      "execution_count": null,
      "outputs": []
    },
    {
      "cell_type": "code",
      "metadata": {
        "id": "oPdQ2FHpGbId"
      },
      "source": [
        "device = torch.device(\"cuda:0\" if torch.cuda.is_available() else 'cpu')"
      ],
      "execution_count": null,
      "outputs": []
    },
    {
      "cell_type": "code",
      "metadata": {
        "id": "LzuLNdU0GoMs"
      },
      "source": [
        "# a)setting up neural net\n",
        "class neural_net(nn.Module):\n",
        "  def __init__(self):\n",
        "      super(neural_net, self).__init__()\n",
        "      self.fc1 = nn.Linear(13,256) # 26 feature\n",
        "      self.fc2 = nn.Linear(256,128)\n",
        "      self.fc3 = nn.Linear(128, 1)\n",
        "      self.relu = nn.ReLU()\n",
        "      self.droput = nn.Dropout(0.1)\n",
        "  def encode(self, x):\n",
        "      x = F.relu(self.fc1(x))\n",
        "      mu = self.fc2_mu(x)\n",
        "      sigma = self.fc2_sigma(x)\n",
        "      return mu, sigma\n",
        "\n",
        "  def reparameterize(self, mu, sigma):\n",
        "      std = torch.exp(0.5*sigma) # standard deviation ( sigma = log((std)**2) )\n",
        "      noise = torch.randn_like(std)\n",
        "      z = mu + std*noise # The \"source\" to the decoder and we want to make this to unit Gaussian after training.\n",
        "      return z\n",
        "\n",
        "\n",
        "  def forward(self, x):\n",
        "      z= self.encode(X[-1])\n",
        "      \n",
        "      x = self.fc1(x) #\n",
        "      x = self.relu(x) #25   \n",
        "      x = self.droput(x)        \n",
        "      x = torch.flatten(x, start_dim=1)\n",
        "      x = self.relu(self.fc2(x))\n",
        "      #x = self.droput(x) \n",
        "      x = self.fc3(x)\n",
        "\n",
        "      return x"
      ],
      "execution_count": null,
      "outputs": []
    },
    {
      "cell_type": "code",
      "metadata": {
        "colab": {
          "base_uri": "https://localhost:8080/"
        },
        "id": "p2XqJJyKH0ki",
        "outputId": "8b3475b8-1088-4097-9915-3f5eeb92d43c"
      },
      "source": [
        "neural = neural_net()\n",
        "neural.to(device)"
      ],
      "execution_count": null,
      "outputs": [
        {
          "output_type": "execute_result",
          "data": {
            "text/plain": [
              "neural_net(\n",
              "  (fc1): Linear(in_features=13, out_features=256, bias=True)\n",
              "  (fc2): Linear(in_features=256, out_features=128, bias=True)\n",
              "  (fc3): Linear(in_features=128, out_features=1, bias=True)\n",
              "  (relu): ReLU()\n",
              "  (droput): Dropout(p=0.1, inplace=False)\n",
              ")"
            ]
          },
          "metadata": {
            "tags": []
          },
          "execution_count": 23
        }
      ]
    },
    {
      "cell_type": "code",
      "metadata": {
        "colab": {
          "base_uri": "https://localhost:8080/"
        },
        "id": "BJZaqY7WH3Nz",
        "outputId": "fed29c2b-4cd6-4db2-9251-32f46997cb76"
      },
      "source": [
        "dataiter = iter(train_loader)\n",
        "array = dataiter.next()\n",
        "\n",
        "print(array.shape)"
      ],
      "execution_count": null,
      "outputs": [
        {
          "output_type": "stream",
          "text": [
            "torch.Size([1024, 14])\n"
          ],
          "name": "stdout"
        }
      ]
    },
    {
      "cell_type": "code",
      "metadata": {
        "colab": {
          "base_uri": "https://localhost:8080/"
        },
        "id": "yXj_urFAe1zj",
        "outputId": "e8c7071d-e4ea-4a8b-9545-256d93f28cf2"
      },
      "source": [
        "it = iter(train_loader)\n",
        "Input_batch = next(it)\n",
        "#print(Input_batch[:,13])\n",
        "Input_batch = Input_batch[:,0:13].float()\n",
        "Input_batch = Input_batch.to(device)\n",
        "print(neural.forward(Input_batch).shape)"
      ],
      "execution_count": null,
      "outputs": [
        {
          "output_type": "stream",
          "text": [
            "torch.Size([1024, 1])\n"
          ],
          "name": "stdout"
        }
      ]
    },
    {
      "cell_type": "code",
      "metadata": {
        "colab": {
          "base_uri": "https://localhost:8080/"
        },
        "id": "RIZVMiJu-AGS",
        "outputId": "11f2ea63-ab9b-48cc-b24e-1ff994c41779"
      },
      "source": [
        "len(train_loader)"
      ],
      "execution_count": null,
      "outputs": [
        {
          "output_type": "execute_result",
          "data": {
            "text/plain": [
              "1954"
            ]
          },
          "metadata": {
            "tags": []
          },
          "execution_count": 26
        }
      ]
    },
    {
      "cell_type": "code",
      "metadata": {
        "id": "BjTEE5pmn3fd"
      },
      "source": [
        "def fit(model,trainloader):\n",
        "  Loss = nn.MSELoss()\n",
        "  optimizer = optim.AdamW(model.parameters(), lr)\n",
        "  #d-dimensional vector representing diag(Gt) to store a running total of the squares of the gradients.\n",
        "  for e in range(epochs):\n",
        "      running_loss = 0\n",
        "      for input in trainloader:  \n",
        "          input = input.to(device)    \n",
        "          optimizer.zero_grad()         \n",
        "          output = model(input[:,0:13].float())\n",
        "          #print(output)\n",
        "          #output = output.view(-1,1,1,1)\n",
        "          loss = Loss(output, input[:,13].float().view(-1,1))\n",
        "          #print(loss)\n",
        "          loss.backward()\n",
        "          optimizer.step()\n",
        "          running_loss += loss.item()\n",
        "      print(math.sqrt(running_loss/len(trainloader)))\n",
        "      if(math.sqrt(running_loss/len(trainloader))<0.09):\n",
        "        break\n",
        "          #print(\"Epoch {} - Training loss: {} -Test Accuracy:{}\".format(e, running_loss))"
      ],
      "execution_count": null,
      "outputs": []
    },
    {
      "cell_type": "code",
      "metadata": {
        "id": "wbMvjd1J5Odt"
      },
      "source": [
        "from sklearn.metrics import mean_squared_error"
      ],
      "execution_count": null,
      "outputs": []
    },
    {
      "cell_type": "code",
      "metadata": {
        "id": "BYksmoi93S7R"
      },
      "source": [
        "def evaluate_model(model, test_loader):\n",
        "    predictions, actuals = list(), list()\n",
        "    model.evaluate()\n",
        "    for inputs in test_loader:\n",
        "        # evaluate the model on the test set\n",
        "        inputs = inputs.to(device)\n",
        "        yhat = model(inputs[:,0:13].float())\n",
        "        # retrieve numpy array\n",
        "        yhat = yhat.cpu().detach().numpy()\n",
        "        actual = inputs[:,13].cpu().float().numpy()\n",
        "        actual = actual.reshape((len(actual), 1))\n",
        "        # store\n",
        "        predictions.append(yhat)\n",
        "        actuals.append(actual)\n",
        "    predictions, actuals = np.vstack(predictions), np.vstack(actuals)\n",
        "    # calculate mse\n",
        "    mse = mean_squared_error(actuals, predictions)\n",
        "    rmse = math.sqrt(mse)\n",
        "    print(mse,rmse)\n",
        "    return mse,rmse"
      ],
      "execution_count": null,
      "outputs": []
    },
    {
      "cell_type": "code",
      "metadata": {
        "colab": {
          "base_uri": "https://localhost:8080/"
        },
        "id": "kXlDzSArq1EH",
        "outputId": "cf8577b5-90c6-4fe5-8e26-aa868e064527"
      },
      "source": [
        "fit(neural,train_loader)"
      ],
      "execution_count": null,
      "outputs": [
        {
          "output_type": "stream",
          "text": [
            "1.4579067236033105\n",
            "0.16607465915068145\n",
            "0.16444538977182352\n",
            "0.15825766172664435\n",
            "0.1514448343423\n",
            "0.1414346954931934\n",
            "0.13156862323099525\n",
            "0.12218548124863562\n",
            "0.11742176912375517\n",
            "0.1144888671983654\n",
            "0.10835625526872125\n",
            "0.10600304841507051\n",
            "0.10495091038888982\n",
            "0.1040057501000664\n",
            "0.10318297367017777\n",
            "0.10241182041823563\n",
            "0.10170293464954723\n",
            "0.10108656268318163\n",
            "0.1002819185760915\n",
            "0.09949790146526276\n",
            "0.0990004125273284\n",
            "0.09827360388905235\n",
            "0.09797869037289088\n",
            "0.09762245326354332\n",
            "0.09744980346700308\n",
            "0.09719101059192987\n",
            "0.09696201537677168\n",
            "0.09683074421124759\n",
            "0.09658518801428843\n",
            "0.09631118629627067\n",
            "0.09616053832562299\n",
            "0.09593366605121402\n",
            "0.09586953048051579\n",
            "0.09576343513045038\n",
            "0.09539542618965861\n",
            "0.0953160770880247\n",
            "0.09536649232680967\n",
            "0.09507651590059077\n",
            "0.09504647588353228\n",
            "0.09497578463346384\n",
            "0.09471901822228959\n",
            "0.09470019496168866\n",
            "0.09462822732161534\n",
            "0.09448011851809746\n",
            "0.09445397784157164\n",
            "0.09430581615854329\n",
            "0.09432581725767658\n",
            "0.094193207166615\n",
            "0.09420939825538219\n",
            "0.0941937103411705\n",
            "0.0940915758729677\n",
            "0.0938165075202949\n",
            "0.09380349078579713\n",
            "0.09365058129430921\n",
            "0.09363047013721354\n",
            "0.09372075476557261\n",
            "0.09369606870549957\n",
            "0.09359394535483952\n",
            "0.09364426775019737\n",
            "0.09341455260216598\n",
            "0.09337830188273127\n",
            "0.0932758888789451\n",
            "0.0932130467660652\n",
            "0.09317725490106088\n",
            "0.09303747523714032\n",
            "0.093029086032956\n",
            "0.09298286661961214\n",
            "0.0928064168101078\n",
            "0.09295578041540145\n",
            "0.09290175925818062\n",
            "0.09288085628967152\n",
            "0.09272141728338858\n",
            "0.09278775244744494\n",
            "0.09275787812940406\n",
            "0.09243656503380852\n",
            "0.09279402224062469\n",
            "0.09274756992762002\n",
            "0.09237369060374974\n",
            "0.09258126183222115\n",
            "0.09225395001636941\n",
            "0.09245105304322425\n",
            "0.09254576929018422\n",
            "0.09223113718247783\n",
            "0.0922062419481276\n",
            "0.09225677864348795\n",
            "0.0921632530855362\n",
            "0.09221319219166346\n",
            "0.09221836212219232\n",
            "0.09215369549220333\n",
            "0.09200664708666655\n",
            "0.0920254882128835\n",
            "0.09215236467438483\n",
            "0.09206440486304389\n",
            "0.09196063589520695\n",
            "0.09198570684457835\n",
            "0.09194439695093493\n",
            "0.09200810553453283\n",
            "0.09203153380925887\n",
            "0.09177544852761826\n",
            "0.09182698888507536\n",
            "0.09192704754316088\n",
            "0.0917714698259104\n",
            "0.09172906376361756\n",
            "0.0918337678356514\n",
            "0.0916924205165214\n",
            "0.0917985212099977\n",
            "0.0915720035746884\n",
            "0.09158045907291172\n",
            "0.09154221563520532\n",
            "0.09156275107173767\n",
            "0.09157488622494815\n",
            "0.09175450352028952\n",
            "0.09150341995972519\n",
            "0.09158817888489537\n",
            "0.09157219595657919\n",
            "0.0913419151171495\n",
            "0.09153803228801846\n",
            "0.0914792190060949\n",
            "0.0916436200997656\n",
            "0.09127860281714947\n",
            "0.09139709242344284\n",
            "0.09140130119701075\n",
            "0.09124197065174901\n",
            "0.09142516354690067\n",
            "0.09187073364652112\n",
            "0.09155891707858298\n",
            "0.09142810603264599\n",
            "0.0913763050065796\n",
            "0.09131808688704349\n",
            "0.09151105846993195\n",
            "0.09124723069932256\n",
            "0.09147648520638732\n",
            "0.09134662703681488\n",
            "0.0913121010166131\n",
            "0.09143196316513132\n",
            "0.09133464412363122\n",
            "0.09133932803222733\n",
            "0.09129654081956597\n",
            "0.09130051269004041\n",
            "0.09109822447153465\n",
            "0.09104319866927958\n",
            "0.09125007154612642\n",
            "0.09108366854612493\n",
            "0.09103454109458124\n",
            "0.09115341689611124\n",
            "0.09097734296944616\n",
            "0.0912297646507025\n",
            "0.09109865487043739\n",
            "0.09123499305026199\n",
            "0.09117978312296435\n",
            "0.09090898984256993\n",
            "0.09072669876533297\n",
            "0.09124871842356001\n",
            "0.09108461776493416\n",
            "0.0909979134650293\n",
            "0.09108080799221915\n",
            "0.09117912108625391\n",
            "0.09094797827542751\n",
            "0.09120620803772006\n",
            "0.0908930087885921\n",
            "0.09088514953257631\n",
            "0.09110824571478143\n",
            "0.09087494100539371\n",
            "0.09112614914241712\n",
            "0.09091242797241314\n",
            "0.09082256243841114\n",
            "0.09107661787137589\n",
            "0.09092142505657265\n",
            "0.09089064609138721\n",
            "0.09109340179972183\n",
            "0.09111153419293669\n",
            "0.0908632020203153\n",
            "0.09078616680365934\n",
            "0.09108296245009911\n",
            "0.09106093456665088\n",
            "0.09104511768673292\n",
            "0.09099319800763107\n",
            "0.09095071885997222\n",
            "0.09089675748257724\n",
            "0.09093880199770801\n",
            "0.09088120174999949\n",
            "0.09114733629525905\n",
            "0.09107731353519218\n",
            "0.09095577188912196\n",
            "0.09116558895380066\n",
            "0.0909637151815151\n",
            "0.09091163040829851\n",
            "0.09096469337931826\n",
            "0.0908117732452915\n",
            "0.09117409876551473\n",
            "0.09098206589578442\n",
            "0.09118246012326234\n",
            "0.09111539147591571\n",
            "0.09093605254279445\n",
            "0.09084982094334144\n",
            "0.09088542112026982\n",
            "0.09082518091266492\n",
            "0.09097640501631701\n",
            "0.09094359113871567\n",
            "0.09106008008968931\n"
          ],
          "name": "stdout"
        }
      ]
    },
    {
      "cell_type": "code",
      "metadata": {
        "id": "TsK2xNw4BH_a"
      },
      "source": [
        "torch.save(neural.state_dict(), \"drive/MyDrive/DeepLearning_Project/Models/Adamw200lr10e-41024batch\")"
      ],
      "execution_count": null,
      "outputs": []
    },
    {
      "cell_type": "code",
      "metadata": {
        "colab": {
          "base_uri": "https://localhost:8080/"
        },
        "id": "rKu61lEI3KWj",
        "outputId": "3ba23ffb-5b0d-465f-e9e0-984bd2361623"
      },
      "source": [
        "evaluate_model(neural,test_loader)"
      ],
      "execution_count": null,
      "outputs": [
        {
          "output_type": "stream",
          "text": [
            "0.008273844 0.0909606710389266\n"
          ],
          "name": "stdout"
        },
        {
          "output_type": "execute_result",
          "data": {
            "text/plain": [
              "(0.008273844, 0.0909606710389266)"
            ]
          },
          "metadata": {
            "tags": []
          },
          "execution_count": 32
        }
      ]
    }
  ]
}